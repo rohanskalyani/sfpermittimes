{
 "cells": [
  {
   "cell_type": "code",
   "execution_count": 2,
   "id": "a3304b9b",
   "metadata": {},
   "outputs": [],
   "source": [
    "import pandas as pd\n",
    "import numpy as np\n",
    "import geopandas as gpd\n",
    "from shapely.geometry import Point\n",
    "import matplotlib\n",
    "import matplotlib.pyplot as plt\n",
    "from datetime import datetime"
   ]
  },
  {
   "cell_type": "code",
   "execution_count": 3,
   "id": "5293837e",
   "metadata": {},
   "outputs": [],
   "source": [
    "APNTaxData_url = 'https://github.com/rohanskalyani/sfpermittimes/blob/main/Data/APNTaxData.csv?raw=true'\n",
    "\n",
    "\n",
    "APNTaxData = pd.read_csv(APNTaxData_url)"
   ]
  },
  {
   "cell_type": "code",
   "execution_count": null,
   "id": "6b6bdcf5",
   "metadata": {},
   "outputs": [],
   "source": []
  }
 ],
 "metadata": {
  "kernelspec": {
   "display_name": "Python (geo_env)",
   "language": "python",
   "name": "geo_env"
  },
  "language_info": {
   "codemirror_mode": {
    "name": "ipython",
    "version": 3
   },
   "file_extension": ".py",
   "mimetype": "text/x-python",
   "name": "python",
   "nbconvert_exporter": "python",
   "pygments_lexer": "ipython3",
   "version": "3.10.0"
  }
 },
 "nbformat": 4,
 "nbformat_minor": 5
}
