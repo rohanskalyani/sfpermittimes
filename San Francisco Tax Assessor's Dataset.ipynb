{
 "cells": [
  {
   "cell_type": "code",
   "execution_count": 1,
   "id": "f67a6ed3",
   "metadata": {
    "scrolled": true
   },
   "outputs": [
    {
     "name": "stderr",
     "output_type": "stream",
     "text": [
      "Can't load requested DLL: C:\\Program Files\\GeoDa Software\\ogr_FileGDB.dll\n",
      "126: The specified module could not be found.\n",
      "\n",
      "Can't load requested DLL: C:\\Program Files\\GeoDa Software\\ogr_FileGDB.dll\n",
      "126: The specified module could not be found.\n",
      "\n",
      "Can't load requested DLL: C:\\Program Files\\GeoDa Software\\ogr_MSSQLSpatial.dll\n",
      "126: The specified module could not be found.\n",
      "\n",
      "Can't load requested DLL: C:\\Program Files\\GeoDa Software\\ogr_MSSQLSpatial.dll\n",
      "126: The specified module could not be found.\n",
      "\n",
      "Can't load requested DLL: C:\\Program Files\\GeoDa Software\\ogr_OCI.dll\n",
      "126: The specified module could not be found.\n",
      "\n",
      "Can't load requested DLL: C:\\Program Files\\GeoDa Software\\ogr_OCI.dll\n",
      "126: The specified module could not be found.\n",
      "\n",
      "Can't load requested DLL: C:\\Program Files\\GeoDa Software\\ogr_PG.dll\n",
      "126: The specified module could not be found.\n",
      "\n",
      "Can't load requested DLL: C:\\Program Files\\GeoDa Software\\ogr_PG.dll\n",
      "126: The specified module could not be found.\n",
      "\n",
      "Can't load requested DLL: C:\\Program Files\\GeoDa Software\\ogr_FileGDB.dll\n",
      "126: The specified module could not be found.\n",
      "\n",
      "Can't load requested DLL: C:\\Program Files\\GeoDa Software\\ogr_FileGDB.dll\n",
      "126: The specified module could not be found.\n",
      "\n",
      "Can't load requested DLL: C:\\Program Files\\GeoDa Software\\ogr_MSSQLSpatial.dll\n",
      "126: The specified module could not be found.\n",
      "\n",
      "Can't load requested DLL: C:\\Program Files\\GeoDa Software\\ogr_MSSQLSpatial.dll\n",
      "126: The specified module could not be found.\n",
      "\n",
      "Can't load requested DLL: C:\\Program Files\\GeoDa Software\\ogr_OCI.dll\n",
      "126: The specified module could not be found.\n",
      "\n",
      "Can't load requested DLL: C:\\Program Files\\GeoDa Software\\ogr_OCI.dll\n",
      "126: The specified module could not be found.\n",
      "\n",
      "Can't load requested DLL: C:\\Program Files\\GeoDa Software\\ogr_PG.dll\n",
      "126: The specified module could not be found.\n",
      "\n",
      "Can't load requested DLL: C:\\Program Files\\GeoDa Software\\ogr_PG.dll\n",
      "126: The specified module could not be found.\n",
      "\n"
     ]
    }
   ],
   "source": [
    "from sklearn.linear_model import LinearRegression\n",
    "from jupyterthemes import jtplot\n",
    "import pandas as pd\n",
    "import numpy as np\n",
    "from datetime import datetime\n",
    "from dateutil import parser\n",
    "import seaborn as sns\n",
    "from scipy.stats import norm\n",
    "from scipy.stats import genextreme as gev\n",
    "from scipy.stats import pareto \n",
    "from scipy import stats\n",
    "import geopandas as gpd\n",
    "from shapely.geometry import Point\n",
    "from matplotlib import pyplot as plt\n",
    "%matplotlib inline\n",
    "import warnings\n",
    "warnings.filterwarnings('ignore')\n",
    "jtplot.style()"
   ]
  },
  {
   "cell_type": "code",
   "execution_count": 2,
   "id": "690204da",
   "metadata": {
    "scrolled": false
   },
   "outputs": [
    {
     "data": {
      "text/html": [
       "<div>\n",
       "<style scoped>\n",
       "    .dataframe tbody tr th:only-of-type {\n",
       "        vertical-align: middle;\n",
       "    }\n",
       "\n",
       "    .dataframe tbody tr th {\n",
       "        vertical-align: top;\n",
       "    }\n",
       "\n",
       "    .dataframe thead th {\n",
       "        text-align: right;\n",
       "    }\n",
       "</style>\n",
       "<table border=\"1\" class=\"dataframe\">\n",
       "  <thead>\n",
       "    <tr style=\"text-align: right;\">\n",
       "      <th></th>\n",
       "      <th>Closed Roll Year</th>\n",
       "      <th>Property Location</th>\n",
       "      <th>Parcel Number</th>\n",
       "      <th>Block</th>\n",
       "      <th>Lot</th>\n",
       "      <th>Year Property Built</th>\n",
       "      <th>Number of Bathrooms</th>\n",
       "      <th>Number of Bedrooms</th>\n",
       "      <th>Number of Rooms</th>\n",
       "      <th>Number of Stories</th>\n",
       "      <th>...</th>\n",
       "      <th>Tax Rate Area Code</th>\n",
       "      <th>Percent of Ownership</th>\n",
       "      <th>Homeowner Exemption Value</th>\n",
       "      <th>Current Sales Date</th>\n",
       "      <th>Assessed Fixtures Value</th>\n",
       "      <th>Assessed Improvement Value</th>\n",
       "      <th>Assessed Land Value</th>\n",
       "      <th>Assessed Personal Property Value</th>\n",
       "      <th>the_geom</th>\n",
       "      <th>Row ID</th>\n",
       "    </tr>\n",
       "  </thead>\n",
       "  <tbody>\n",
       "    <tr>\n",
       "      <th>0</th>\n",
       "      <td>2012</td>\n",
       "      <td>0000 0000                       0000</td>\n",
       "      <td>9999065</td>\n",
       "      <td>9999</td>\n",
       "      <td>065</td>\n",
       "      <td>NaN</td>\n",
       "      <td>0.0</td>\n",
       "      <td>0</td>\n",
       "      <td>0.0</td>\n",
       "      <td>0.0</td>\n",
       "      <td>...</td>\n",
       "      <td>1.0</td>\n",
       "      <td>1.0</td>\n",
       "      <td>0.0</td>\n",
       "      <td>2012/01/01</td>\n",
       "      <td>0</td>\n",
       "      <td>0</td>\n",
       "      <td>0</td>\n",
       "      <td>2351</td>\n",
       "      <td>NaN</td>\n",
       "      <td>20129999065</td>\n",
       "    </tr>\n",
       "    <tr>\n",
       "      <th>1</th>\n",
       "      <td>2013</td>\n",
       "      <td>0000 0000                       0000</td>\n",
       "      <td>9999189</td>\n",
       "      <td>9999</td>\n",
       "      <td>189</td>\n",
       "      <td>NaN</td>\n",
       "      <td>0.0</td>\n",
       "      <td>0</td>\n",
       "      <td>0.0</td>\n",
       "      <td>0.0</td>\n",
       "      <td>...</td>\n",
       "      <td>1.0</td>\n",
       "      <td>1.0</td>\n",
       "      <td>0.0</td>\n",
       "      <td>2013/01/01</td>\n",
       "      <td>0</td>\n",
       "      <td>0</td>\n",
       "      <td>0</td>\n",
       "      <td>1505</td>\n",
       "      <td>NaN</td>\n",
       "      <td>20139999189</td>\n",
       "    </tr>\n",
       "    <tr>\n",
       "      <th>2</th>\n",
       "      <td>2007</td>\n",
       "      <td>0000 0000                       0000</td>\n",
       "      <td>9999129</td>\n",
       "      <td>9999</td>\n",
       "      <td>129</td>\n",
       "      <td>NaN</td>\n",
       "      <td>0.0</td>\n",
       "      <td>0</td>\n",
       "      <td>0.0</td>\n",
       "      <td>0.0</td>\n",
       "      <td>...</td>\n",
       "      <td>511.0</td>\n",
       "      <td>1.0</td>\n",
       "      <td>0.0</td>\n",
       "      <td>2008/01/01</td>\n",
       "      <td>0</td>\n",
       "      <td>0</td>\n",
       "      <td>0</td>\n",
       "      <td>0</td>\n",
       "      <td>NaN</td>\n",
       "      <td>20079999129</td>\n",
       "    </tr>\n",
       "    <tr>\n",
       "      <th>3</th>\n",
       "      <td>2014</td>\n",
       "      <td>0000 0000                       0000</td>\n",
       "      <td>9999178</td>\n",
       "      <td>9999</td>\n",
       "      <td>178</td>\n",
       "      <td>NaN</td>\n",
       "      <td>0.0</td>\n",
       "      <td>0</td>\n",
       "      <td>0.0</td>\n",
       "      <td>0.0</td>\n",
       "      <td>...</td>\n",
       "      <td>1.0</td>\n",
       "      <td>1.0</td>\n",
       "      <td>0.0</td>\n",
       "      <td>2014/01/01</td>\n",
       "      <td>0</td>\n",
       "      <td>0</td>\n",
       "      <td>0</td>\n",
       "      <td>27976</td>\n",
       "      <td>NaN</td>\n",
       "      <td>20149999178</td>\n",
       "    </tr>\n",
       "    <tr>\n",
       "      <th>4</th>\n",
       "      <td>2008</td>\n",
       "      <td>0000 0000                       0000</td>\n",
       "      <td>9999132</td>\n",
       "      <td>9999</td>\n",
       "      <td>132</td>\n",
       "      <td>NaN</td>\n",
       "      <td>0.0</td>\n",
       "      <td>0</td>\n",
       "      <td>0.0</td>\n",
       "      <td>0.0</td>\n",
       "      <td>...</td>\n",
       "      <td>1014.0</td>\n",
       "      <td>1.0</td>\n",
       "      <td>0.0</td>\n",
       "      <td>2008/01/01</td>\n",
       "      <td>0</td>\n",
       "      <td>0</td>\n",
       "      <td>0</td>\n",
       "      <td>0</td>\n",
       "      <td>NaN</td>\n",
       "      <td>20089999132</td>\n",
       "    </tr>\n",
       "  </tbody>\n",
       "</table>\n",
       "<p>5 rows × 28 columns</p>\n",
       "</div>"
      ],
      "text/plain": [
       "   Closed Roll Year                     Property Location Parcel Number Block  \\\n",
       "0              2012  0000 0000                       0000       9999065  9999   \n",
       "1              2013  0000 0000                       0000       9999189  9999   \n",
       "2              2007  0000 0000                       0000       9999129  9999   \n",
       "3              2014  0000 0000                       0000       9999178  9999   \n",
       "4              2008  0000 0000                       0000       9999132  9999   \n",
       "\n",
       "   Lot  Year Property Built  Number of Bathrooms  Number of Bedrooms  \\\n",
       "0  065                  NaN                  0.0                   0   \n",
       "1  189                  NaN                  0.0                   0   \n",
       "2  129                  NaN                  0.0                   0   \n",
       "3  178                  NaN                  0.0                   0   \n",
       "4  132                  NaN                  0.0                   0   \n",
       "\n",
       "   Number of Rooms  Number of Stories  ...  Tax Rate Area Code  \\\n",
       "0              0.0                0.0  ...                 1.0   \n",
       "1              0.0                0.0  ...                 1.0   \n",
       "2              0.0                0.0  ...               511.0   \n",
       "3              0.0                0.0  ...                 1.0   \n",
       "4              0.0                0.0  ...              1014.0   \n",
       "\n",
       "  Percent of Ownership Homeowner Exemption Value  Current Sales Date  \\\n",
       "0                  1.0                       0.0          2012/01/01   \n",
       "1                  1.0                       0.0          2013/01/01   \n",
       "2                  1.0                       0.0          2008/01/01   \n",
       "3                  1.0                       0.0          2014/01/01   \n",
       "4                  1.0                       0.0          2008/01/01   \n",
       "\n",
       "   Assessed Fixtures Value  Assessed Improvement Value  Assessed Land Value  \\\n",
       "0                        0                           0                    0   \n",
       "1                        0                           0                    0   \n",
       "2                        0                           0                    0   \n",
       "3                        0                           0                    0   \n",
       "4                        0                           0                    0   \n",
       "\n",
       "   Assessed Personal Property Value  the_geom       Row ID  \n",
       "0                              2351       NaN  20129999065  \n",
       "1                              1505       NaN  20139999189  \n",
       "2                                 0       NaN  20079999129  \n",
       "3                             27976       NaN  20149999178  \n",
       "4                                 0       NaN  20089999132  \n",
       "\n",
       "[5 rows x 28 columns]"
      ]
     },
     "execution_count": 2,
     "metadata": {},
     "output_type": "execute_result"
    }
   ],
   "source": [
    "sftax = pd.read_csv('C:/Users/Rohan/Documents/NYU/PUI/Assessor_Historical_Secured_Property_Tax_Rolls.csv',\\\n",
    "                usecols=['Closed Roll Year', 'Property Location', 'Parcel Number', 'Block',\n",
    "       'Lot', 'Year Property Built', 'Number of Bathrooms', 'Number of Bedrooms',\n",
    "       'Number of Rooms', 'Number of Stories', 'Number of Units',\n",
    "       'Zoning Code', 'Construction Type', 'Lot Depth', 'Lot Frontage',\n",
    "       'Property Area', 'Basement Area', 'Lot Area',\n",
    "       'Tax Rate Area Code', 'Percent of Ownership', 'Homeowner Exemption Value', 'Current Sales Date',\n",
    "       'Assessed Fixtures Value', 'Assessed Improvement Value',\n",
    "       'Assessed Land Value', 'Assessed Personal Property Value',\n",
    "       'the_geom', 'Row ID']); sftax.head()"
   ]
  },
  {
   "cell_type": "code",
   "execution_count": 3,
   "id": "5085b14d",
   "metadata": {},
   "outputs": [
    {
     "data": {
      "text/plain": [
       "Index(['Closed Roll Year', 'Property Location', 'Parcel Number', 'Block',\n",
       "       'Lot', 'Year Property Built', 'Number of Bathrooms',\n",
       "       'Number of Bedrooms', 'Number of Rooms', 'Number of Stories',\n",
       "       'Number of Units', 'Zoning Code', 'Construction Type', 'Lot Depth',\n",
       "       'Lot Frontage', 'Property Area', 'Basement Area', 'Lot Area',\n",
       "       'Tax Rate Area Code', 'Percent of Ownership',\n",
       "       'Homeowner Exemption Value', 'Current Sales Date',\n",
       "       'Assessed Fixtures Value', 'Assessed Improvement Value',\n",
       "       'Assessed Land Value', 'Assessed Personal Property Value', 'the_geom',\n",
       "       'Row ID'],\n",
       "      dtype='object')"
      ]
     },
     "execution_count": 3,
     "metadata": {},
     "output_type": "execute_result"
    }
   ],
   "source": [
    "sftax.columns"
   ]
  },
  {
   "cell_type": "code",
   "execution_count": 4,
   "id": "70ae9d81",
   "metadata": {
    "scrolled": false
   },
   "outputs": [
    {
     "data": {
      "text/plain": [
       "Current Sales Date                  1128959\n",
       "Construction Type                    462245\n",
       "Zoning Code                          400029\n",
       "Year Property Built                  208669\n",
       "Tax Rate Area Code                     6948\n",
       "Assessor Neighborhood                  3661\n",
       "Assessor Neighborhood District         3661\n",
       "Analysis Neighborhood                  2126\n",
       "Supervisor District                    2126\n",
       "the_geom                               2126\n",
       "Use Code                                934\n",
       "Use Definition                          934\n",
       "Property Class Code Definition          934\n",
       "Property Class Code                     858\n",
       "Assessor Neighborhood Code              679\n",
       "Homeowner Exemption Value                61\n",
       "Basement Area                            28\n",
       "Number of Rooms                          11\n",
       "Number of Stories                        11\n",
       "Lot                                       1\n",
       "Percent of Ownership                      1\n",
       "Assessed Personal Property Value          0\n",
       "Assessed Land Value                       0\n",
       "Assessed Improvement Value                0\n",
       "Assessed Fixtures Value                   0\n",
       "Closed Roll Year                          0\n",
       "Lot Frontage                              0\n",
       "Misc Exemption Value                      0\n",
       "Lot Area                                  0\n",
       "Property Area                             0\n",
       "Property Location                         0\n",
       "Lot Depth                                 0\n",
       "Number of Units                           0\n",
       "Number of Bedrooms                        0\n",
       "Number of Bathrooms                       0\n",
       "Volume Number                             0\n",
       "Block                                     0\n",
       "Parcel Number                             0\n",
       "Row ID                                    0\n",
       "dtype: int64"
      ]
     },
     "execution_count": 4,
     "metadata": {},
     "output_type": "execute_result"
    }
   ],
   "source": [
    "sftax.isna().sum().sort_values(ascending=False)"
   ]
  },
  {
   "cell_type": "code",
   "execution_count": 6,
   "id": "92bb41ad",
   "metadata": {},
   "outputs": [
    {
     "data": {
      "text/plain": [
       "<AxesSubplot:>"
      ]
     },
     "execution_count": 6,
     "metadata": {},
     "output_type": "execute_result"
    },
    {
     "data": {
      "image/png": "[encoded data removed]",
      "text/plain": [
       "<Figure size 460.8x403.2 with 2 Axes>"
      ]
     },
     "metadata": {},
     "output_type": "display_data"
    }
   ],
   "source": [
    "sns.heatmap(sftax.isna(), cmap = sns.color_palette(['#000099','#ffff00']))"
   ]
  },
  {
   "cell_type": "code",
   "execution_count": 19,
   "id": "0a7f5e18",
   "metadata": {},
   "outputs": [
    {
     "name": "stdout",
     "output_type": "stream",
     "text": [
      "(2666117, 39)\n",
      "Closed Roll Year                      int64\n",
      "Property Location                    object\n",
      "Parcel Number                        object\n",
      "Block                                object\n",
      "Lot                                  object\n",
      "Volume Number                         int64\n",
      "Use Code                             object\n",
      "Use Definition                       object\n",
      "Property Class Code                  object\n",
      "Property Class Code Definition       object\n",
      "Year Property Built                 float64\n",
      "Number of Bathrooms                 float64\n",
      "Number of Bedrooms                    int64\n",
      "Number of Rooms                     float64\n",
      "Number of Stories                   float64\n",
      "Number of Units                       int64\n",
      "Zoning Code                          object\n",
      "Construction Type                    object\n",
      "Lot Depth                           float64\n",
      "Lot Frontage                        float64\n",
      "Property Area                         int64\n",
      "Basement Area                       float64\n",
      "Lot Area                            float64\n",
      "Tax Rate Area Code                  float64\n",
      "Percent of Ownership                float64\n",
      "Misc Exemption Value                  int64\n",
      "Homeowner Exemption Value           float64\n",
      "Current Sales Date                   object\n",
      "Assessed Fixtures Value               int64\n",
      "Assessed Improvement Value            int64\n",
      "Assessed Land Value                   int64\n",
      "Assessed Personal Property Value      int64\n",
      "Assessor Neighborhood District      float64\n",
      "Assessor Neighborhood Code           object\n",
      "Assessor Neighborhood                object\n",
      "Supervisor District                 float64\n",
      "Analysis Neighborhood                object\n",
      "the_geom                             object\n",
      "Row ID                               object\n",
      "dtype: object\n"
     ]
    }
   ],
   "source": [
    "print(sftax.shape)\n",
    "print(sftax.dtypes)"
   ]
  },
  {
   "cell_type": "code",
   "execution_count": 8,
   "id": "8a7322c9",
   "metadata": {},
   "outputs": [
    {
     "name": "stdout",
     "output_type": "stream",
     "text": [
      "['Closed Roll Year' 'Volume Number' 'Year Property Built'\n",
      " 'Number of Bathrooms' 'Number of Bedrooms' 'Number of Rooms'\n",
      " 'Number of Stories' 'Number of Units' 'Lot Depth' 'Lot Frontage'\n",
      " 'Property Area' 'Basement Area' 'Lot Area' 'Tax Rate Area Code'\n",
      " 'Percent of Ownership' 'Misc Exemption Value' 'Homeowner Exemption Value'\n",
      " 'Assessed Fixtures Value' 'Assessed Improvement Value'\n",
      " 'Assessed Land Value' 'Assessed Personal Property Value'\n",
      " 'Assessor Neighborhood District' 'Supervisor District']\n"
     ]
    }
   ],
   "source": [
    "sftax_num = sftax.select_dtypes(include = [np.number])\n",
    "sftax_num_cols = sftax_num.columns.values\n",
    "print(sftax_num_cols)"
   ]
  },
  {
   "cell_type": "code",
   "execution_count": 9,
   "id": "0f33ebcc",
   "metadata": {},
   "outputs": [
    {
     "name": "stdout",
     "output_type": "stream",
     "text": [
      "['Property Location' 'Parcel Number' 'Block' 'Lot' 'Use Code'\n",
      " 'Use Definition' 'Property Class Code' 'Property Class Code Definition'\n",
      " 'Zoning Code' 'Construction Type' 'Current Sales Date'\n",
      " 'Assessor Neighborhood Code' 'Assessor Neighborhood'\n",
      " 'Analysis Neighborhood' 'the_geom' 'Row ID']\n"
     ]
    }
   ],
   "source": [
    "sftax_nonnum = sftax.select_dtypes(exclude = [np.number])\n",
    "sftax_nonnum_cols = sftax_nonnum.columns.values\n",
    "print(sftax_nonnum_cols)"
   ]
  },
  {
   "cell_type": "code",
   "execution_count": null,
   "id": "511799fd",
   "metadata": {},
   "outputs": [],
   "source": [
    "sftax_regressors = sftax.loc[]"
   ]
  }
 ],
 "metadata": {
  "kernelspec": {
   "display_name": "Python 3 (ipykernel)",
   "language": "python",
   "name": "python3"
  },
  "language_info": {
   "codemirror_mode": {
    "name": "ipython",
    "version": 3
   },
   "file_extension": ".py",
   "mimetype": "text/x-python",
   "name": "python",
   "nbconvert_exporter": "python",
   "pygments_lexer": "ipython3",
   "version": "3.9.7"
  }
 },
 "nbformat": 4,
 "nbformat_minor": 5
}
